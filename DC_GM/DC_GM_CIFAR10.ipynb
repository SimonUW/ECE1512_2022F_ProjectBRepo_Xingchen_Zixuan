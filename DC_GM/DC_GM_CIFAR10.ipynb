{
 "cells": [
  {
   "cell_type": "code",
   "execution_count": 1,
   "id": "0565c52f",
   "metadata": {},
   "outputs": [],
   "source": [
    "import os\n",
    "import time\n",
    "import copy\n",
    "import argparse\n",
    "import numpy as np\n",
    "import torch\n",
    "from fvcore.nn import FlopCountAnalysis\n",
    "import tqdm\n",
    "import torch.nn as nn\n",
    "from torchvision.utils import save_image\n",
    "from utils import get_loops, get_dataset, get_network, get_eval_pool, evaluate_synset, get_daparam, match_loss, get_time, TensorDataset, epoch, DiffAugment, ParamDiffAug\n",
    "device = 'cuda' if torch.cuda.is_available() else 'cpu'"
   ]
  },
  {
   "cell_type": "code",
   "execution_count": 4,
   "id": "8285b314",
   "metadata": {},
   "outputs": [
    {
     "name": "stdout",
     "output_type": "stream",
     "text": [
      "Files already downloaded and verified\n",
      "Files already downloaded and verified\n"
     ]
    },
    {
     "name": "stderr",
     "output_type": "stream",
     "text": [
      "Unsupported operator aten::avg_pool2d encountered 3 time(s)\n"
     ]
    },
    {
     "name": "stdout",
     "output_type": "stream",
     "text": [
      "The FLOPs for 100 synthetic images is 5160550400\n",
      "The FLOPs for 50000 real training images is 2580275200000\n",
      "The FLOPs for 10000 real validation images is 516055040000\n",
      "Start Epoch #1\n"
     ]
    },
    {
     "name": "stderr",
     "output_type": "stream",
     "text": [
      "100%|█████████████████████████████████████████████████████████████████████████████| 6250/6250 [00:48<00:00, 127.66it/s]\n"
     ]
    },
    {
     "name": "stdout",
     "output_type": "stream",
     "text": [
      "Train accuracy is 54.996%\n",
      "Average train loss is 1.2829258807563781\n",
      "Start Epoch #2\n"
     ]
    },
    {
     "name": "stderr",
     "output_type": "stream",
     "text": [
      "100%|█████████████████████████████████████████████████████████████████████████████| 6250/6250 [00:48<00:00, 127.88it/s]\n"
     ]
    },
    {
     "name": "stdout",
     "output_type": "stream",
     "text": [
      "Train accuracy is 69.482%\n",
      "Average train loss is 0.8795407080316544\n",
      "Start Epoch #3\n"
     ]
    },
    {
     "name": "stderr",
     "output_type": "stream",
     "text": [
      "100%|█████████████████████████████████████████████████████████████████████████████| 6250/6250 [00:49<00:00, 127.37it/s]\n"
     ]
    },
    {
     "name": "stdout",
     "output_type": "stream",
     "text": [
      "Train accuracy is 75.066%\n",
      "Average train loss is 0.7239885375258327\n",
      "Start Epoch #4\n"
     ]
    },
    {
     "name": "stderr",
     "output_type": "stream",
     "text": [
      "100%|█████████████████████████████████████████████████████████████████████████████| 6250/6250 [00:47<00:00, 132.19it/s]\n"
     ]
    },
    {
     "name": "stdout",
     "output_type": "stream",
     "text": [
      "Train accuracy is 78.85600000000001%\n",
      "Average train loss is 0.6202338073340058\n",
      "Start Epoch #5\n"
     ]
    },
    {
     "name": "stderr",
     "output_type": "stream",
     "text": [
      "100%|█████████████████████████████████████████████████████████████████████████████| 6250/6250 [00:46<00:00, 133.33it/s]\n"
     ]
    },
    {
     "name": "stdout",
     "output_type": "stream",
     "text": [
      "Train accuracy is 81.58%\n",
      "Average train loss is 0.539016699924618\n",
      "Start Epoch #6\n"
     ]
    },
    {
     "name": "stderr",
     "output_type": "stream",
     "text": [
      "100%|█████████████████████████████████████████████████████████████████████████████| 6250/6250 [00:47<00:00, 131.81it/s]\n"
     ]
    },
    {
     "name": "stdout",
     "output_type": "stream",
     "text": [
      "Train accuracy is 83.93%\n",
      "Average train loss is 0.4728991440296173\n",
      "Start Epoch #7\n"
     ]
    },
    {
     "name": "stderr",
     "output_type": "stream",
     "text": [
      "100%|█████████████████████████████████████████████████████████████████████████████| 6250/6250 [00:48<00:00, 129.62it/s]\n"
     ]
    },
    {
     "name": "stdout",
     "output_type": "stream",
     "text": [
      "Train accuracy is 86.274%\n",
      "Average train loss is 0.4094979334069788\n",
      "Start Epoch #8\n"
     ]
    },
    {
     "name": "stderr",
     "output_type": "stream",
     "text": [
      "100%|█████████████████████████████████████████████████████████████████████████████| 6250/6250 [00:47<00:00, 131.25it/s]\n"
     ]
    },
    {
     "name": "stdout",
     "output_type": "stream",
     "text": [
      "Train accuracy is 88.366%\n",
      "Average train loss is 0.35395872360119596\n",
      "Start Epoch #9\n"
     ]
    },
    {
     "name": "stderr",
     "output_type": "stream",
     "text": [
      "100%|█████████████████████████████████████████████████████████████████████████████| 6250/6250 [00:47<00:00, 132.06it/s]\n"
     ]
    },
    {
     "name": "stdout",
     "output_type": "stream",
     "text": [
      "Train accuracy is 90.34%\n",
      "Average train loss is 0.2988247138250992\n",
      "Start Epoch #10\n"
     ]
    },
    {
     "name": "stderr",
     "output_type": "stream",
     "text": [
      "100%|█████████████████████████████████████████████████████████████████████████████| 6250/6250 [00:47<00:00, 131.95it/s]\n"
     ]
    },
    {
     "name": "stdout",
     "output_type": "stream",
     "text": [
      "Train accuracy is 92.11200000000001%\n",
      "Average train loss is 0.25041956983551383\n",
      "Start Epoch #11\n"
     ]
    },
    {
     "name": "stderr",
     "output_type": "stream",
     "text": [
      "100%|█████████████████████████████████████████████████████████████████████████████| 6250/6250 [00:50<00:00, 122.85it/s]\n"
     ]
    },
    {
     "name": "stdout",
     "output_type": "stream",
     "text": [
      "Train accuracy is 94.07799999999999%\n",
      "Average train loss is 0.20350945531416684\n",
      "Start Epoch #12\n"
     ]
    },
    {
     "name": "stderr",
     "output_type": "stream",
     "text": [
      "100%|█████████████████████████████████████████████████████████████████████████████| 6250/6250 [00:48<00:00, 128.88it/s]\n"
     ]
    },
    {
     "name": "stdout",
     "output_type": "stream",
     "text": [
      "Train accuracy is 95.736%\n",
      "Average train loss is 0.16267184142215177\n",
      "Start Epoch #13\n"
     ]
    },
    {
     "name": "stderr",
     "output_type": "stream",
     "text": [
      "100%|█████████████████████████████████████████████████████████████████████████████| 6250/6250 [00:48<00:00, 127.59it/s]\n"
     ]
    },
    {
     "name": "stdout",
     "output_type": "stream",
     "text": [
      "Train accuracy is 97.162%\n",
      "Average train loss is 0.12889447266936302\n",
      "Start Epoch #14\n"
     ]
    },
    {
     "name": "stderr",
     "output_type": "stream",
     "text": [
      "100%|█████████████████████████████████████████████████████████████████████████████| 6250/6250 [00:49<00:00, 127.01it/s]\n"
     ]
    },
    {
     "name": "stdout",
     "output_type": "stream",
     "text": [
      "Train accuracy is 98.25399999999999%\n",
      "Average train loss is 0.1029101313083619\n",
      "Start Epoch #15\n"
     ]
    },
    {
     "name": "stderr",
     "output_type": "stream",
     "text": [
      "100%|█████████████████████████████████████████████████████████████████████████████| 6250/6250 [00:48<00:00, 127.69it/s]\n"
     ]
    },
    {
     "name": "stdout",
     "output_type": "stream",
     "text": [
      "Train accuracy is 98.946%\n",
      "Average train loss is 0.08344305341927334\n",
      "Start Epoch #16\n"
     ]
    },
    {
     "name": "stderr",
     "output_type": "stream",
     "text": [
      "100%|█████████████████████████████████████████████████████████████████████████████| 6250/6250 [00:48<00:00, 128.41it/s]\n"
     ]
    },
    {
     "name": "stdout",
     "output_type": "stream",
     "text": [
      "Train accuracy is 99.452%\n",
      "Average train loss is 0.0701833449289482\n",
      "Start Epoch #17\n"
     ]
    },
    {
     "name": "stderr",
     "output_type": "stream",
     "text": [
      "100%|█████████████████████████████████████████████████████████████████████████████| 6250/6250 [00:48<00:00, 128.17it/s]\n"
     ]
    },
    {
     "name": "stdout",
     "output_type": "stream",
     "text": [
      "Train accuracy is 99.626%\n",
      "Average train loss is 0.0620979917570483\n",
      "Start Epoch #18\n"
     ]
    },
    {
     "name": "stderr",
     "output_type": "stream",
     "text": [
      "100%|█████████████████████████████████████████████████████████████████████████████| 6250/6250 [00:47<00:00, 131.80it/s]\n"
     ]
    },
    {
     "name": "stdout",
     "output_type": "stream",
     "text": [
      "Train accuracy is 99.76%\n",
      "Average train loss is 0.05697428369065747\n",
      "Start Epoch #19\n"
     ]
    },
    {
     "name": "stderr",
     "output_type": "stream",
     "text": [
      "100%|█████████████████████████████████████████████████████████████████████████████| 6250/6250 [00:46<00:00, 134.57it/s]\n"
     ]
    },
    {
     "name": "stdout",
     "output_type": "stream",
     "text": [
      "Train accuracy is 99.82%\n",
      "Average train loss is 0.05391250901896506\n",
      "Start Epoch #20\n"
     ]
    },
    {
     "name": "stderr",
     "output_type": "stream",
     "text": [
      "100%|█████████████████████████████████████████████████████████████████████████████| 6250/6250 [00:47<00:00, 132.10it/s]\n"
     ]
    },
    {
     "name": "stdout",
     "output_type": "stream",
     "text": [
      "Train accuracy is 99.842%\n",
      "Average train loss is 0.05235784092999529\n",
      "Test accuracy is 81.0%\n",
      "Average test loss is 0.6207689867496491\n",
      "Training on the original CIFAR10 dataset takes 969.1143691539764 seconds\n"
     ]
    }
   ],
   "source": [
    "def train(model, train_loader, test_loader, optimizer, scheduler, criterion, epochs):\n",
    "    model = model.to(device)\n",
    "    criterion = criterion.to(device)\n",
    "    model.train()\n",
    "    sythetic_img_all = torch.ones((100,3,32,32)).to(device)\n",
    "    flops_syn = FlopCountAnalysis(model, sythetic_img_all)\n",
    "    print('The FLOPs for 100 synthetic images is {}'.format(flops_syn.total()))\n",
    "    print('The FLOPs for 50000 real training images is {}'.format(flops_syn.total()*500))\n",
    "    print('The FLOPs for 10000 real validation images is {}'.format(flops_syn.total()*100))\n",
    "    del sythetic_img_all\n",
    "    for epoch in range(epochs):\n",
    "        print('Start Epoch #{}'.format(epoch+1))\n",
    "        with tqdm.tqdm(total=len(train_loader)) as pbar:\n",
    "            loss_avg, acc_avg, num_exp = 0, 0, 0\n",
    "            for i_batch, datum in enumerate(train_loader):\n",
    "                img = datum[0].float().to(device)\n",
    "        #         if aug:\n",
    "        #             if args.dsa:\n",
    "        #                 img = DiffAugment(img, args.dsa_strategy, param=args.dsa_param)\n",
    "        #             else:\n",
    "        #                 img = augment(img, args.dc_aug_param, device=args.device)\n",
    "                lab = datum[1].long().to(device)\n",
    "                n_b = lab.shape[0]\n",
    "                output = model(img)\n",
    "                loss = criterion(output, lab)\n",
    "                acc = np.sum(np.equal(np.argmax(output.cpu().data.numpy(), axis=-1), lab.cpu().data.numpy()))\n",
    "                loss_avg += loss.item()*n_b\n",
    "                acc_avg += acc\n",
    "                num_exp += n_b\n",
    "\n",
    "                optimizer.zero_grad()\n",
    "                loss.backward()\n",
    "                optimizer.step()\n",
    "                pbar.update(1)\n",
    "                del img, lab\n",
    "                \n",
    "        loss_avg /= num_exp\n",
    "        acc_avg /= num_exp\n",
    "        scheduler.step()\n",
    "        print('Train accuracy is {}%'.format(acc_avg*100))\n",
    "        print('Average train loss is {}'.format(loss_avg))\n",
    "        \n",
    "    loss_avg, acc_avg, num_exp = 0, 0, 0   \n",
    "    model.eval()\n",
    "    for i_batch, datum in enumerate(test_loader):\n",
    "        img = datum[0].float().to(device)\n",
    "        lab = datum[1].long().to(device)\n",
    "        n_b = lab.shape[0]\n",
    "        output = model(img)\n",
    "        loss = criterion(output, lab)\n",
    "        acc = np.sum(np.equal(np.argmax(output.cpu().data.numpy(), axis=-1), lab.cpu().data.numpy()))\n",
    "        loss_avg += loss.item()*n_b\n",
    "        acc_avg += acc\n",
    "        num_exp += n_b\n",
    "        \n",
    "        del img, lab\n",
    "\n",
    "    loss_avg /= num_exp\n",
    "    acc_avg /= num_exp\n",
    "    print('Test accuracy is {}%'.format(acc_avg*100))\n",
    "    print('Average test loss is {}'.format(loss_avg))          \n",
    "\n",
    "    return loss_avg, acc_avg\n",
    "\n",
    "CIFAR10_dataset = 'CIFAR10'\n",
    "CIFAR10_data_path = './CIFAR10data'\n",
    "CIFAR10_channel, CIFAR10_im_size, CIFAR10_num_classes, CIFAR10_class_names, CIFAR10_mean, CIFAR10_std, CIFAR10_dst_train, CIFAR10_dst_test, CIFAR10_testloader = get_dataset(CIFAR10_dataset, CIFAR10_data_path)\n",
    "CIFAR10_trainloader = torch.utils.data.DataLoader(CIFAR10_dst_train, batch_size=8, shuffle=True, num_workers=0)\n",
    "model = get_network('ConvNet', CIFAR10_channel, CIFAR10_num_classes, CIFAR10_im_size).to(device) # get a random model\n",
    "criterion = nn.CrossEntropyLoss()\n",
    "optimizer = torch.optim.SGD(model.parameters(), lr=0.01)\n",
    "scheduler = torch.optim.lr_scheduler.CosineAnnealingLR(optimizer, T_max=20, eta_min=0)\n",
    "epochs = 20\n",
    "start = time.time()\n",
    "train(model, CIFAR10_trainloader , CIFAR10_testloader , optimizer, scheduler, criterion, epochs)\n",
    "print('Training on the original CIFAR10 dataset takes {} seconds'.format(time.time()-start))\n"
   ]
  },
  {
   "cell_type": "code",
   "execution_count": 3,
   "id": "e4b67856",
   "metadata": {},
   "outputs": [
    {
     "name": "stdout",
     "output_type": "stream",
     "text": [
      "eval_it_pool:  [  1  10  20  30  40  50  60  70  80  90 100]\n",
      "Files already downloaded and verified\n",
      "Files already downloaded and verified\n",
      "\n",
      "================== Exp 0 ==================\n",
      " \n",
      "Hyper-parameters: \n",
      " {'method': 'DC', 'dataset': 'CIFAR10', 'model': 'ConvNet', 'ipc': 10, 'eval_mode': 'S', 'num_exp': 1, 'num_eval': 1, 'epoch_eval_train': 20, 'Iteration': 100, 'lr_img': 0.1, 'lr_net': 0.01, 'batch_real': 256, 'batch_train': 256, 'init': 'real', 'dsa_strategy': 'None', 'data_path': 'CIFAR10data', 'save_path': 'CIFAR10result', 'dis_metric': 'ours', 'outer_loop': 10, 'inner_loop': 50, 'device': 'cuda', 'dsa_param': <utils.ParamDiffAug object at 0x000001B52B381480>, 'dsa': False}\n",
      "class c = 0: 5000 real images\n",
      "class c = 1: 5000 real images\n",
      "class c = 2: 5000 real images\n",
      "class c = 3: 5000 real images\n",
      "class c = 4: 5000 real images\n",
      "class c = 5: 5000 real images\n",
      "class c = 6: 5000 real images\n",
      "class c = 7: 5000 real images\n",
      "class c = 8: 5000 real images\n",
      "class c = 9: 5000 real images\n",
      "real images channel 0, mean = -0.0000, std = 1.2211\n",
      "real images channel 1, mean = -0.0002, std = 1.2211\n",
      "real images channel 2, mean = 0.0002, std = 1.3014\n",
      "initialize synthetic data from random real images\n",
      "[2022-11-28 22:46:59] training begins\n"
     ]
    },
    {
     "name": "stderr",
     "output_type": "stream",
     "text": [
      "C:\\Users\\zixua\\AppData\\Local\\Temp\\ipykernel_11780\\4241134734.py:78: UserWarning: Creating a tensor from a list of numpy.ndarrays is extremely slow. Please consider converting the list to a single numpy.ndarray with numpy.array() before converting to a tensor. (Triggered internally at C:\\cb\\pytorch_1000000000000\\work\\torch\\csrc\\utils\\tensor_new.cpp:233.)\n",
      "  label_syn = torch.tensor([np.ones(args.ipc)*i for i in range(num_classes)], dtype=torch.long, requires_grad=False, device=args.device).view(-1) # [0,0,0, 1,1,1, ..., 9,9,9]\n"
     ]
    },
    {
     "name": "stdout",
     "output_type": "stream",
     "text": [
      "[2022-11-28 22:49:04] iter = 0010, loss = 115.3624\n",
      "[2022-11-28 22:51:27] iter = 0020, loss = 108.9682\n",
      "[2022-11-28 22:54:32] iter = 0030, loss = 100.0484\n",
      "[2022-11-28 22:57:36] iter = 0040, loss = 98.1404\n",
      "[2022-11-28 23:00:43] iter = 0050, loss = 98.1817\n",
      "[2022-11-28 23:03:51] iter = 0060, loss = 96.8088\n",
      "[2022-11-28 23:06:58] iter = 0070, loss = 97.9961\n",
      "[2022-11-28 23:10:03] iter = 0080, loss = 96.2652\n",
      "[2022-11-28 23:13:09] iter = 0090, loss = 94.3752\n",
      "[2022-11-28 23:16:15] iter = 0100, loss = 94.9333\n",
      "-------------------------\n",
      "Evaluation\n",
      "model_train = ConvNet, model_eval = ConvNet, iteration = 100\n",
      "\n",
      "==================== Final Results ====================\n",
      "\n",
      "After 100 iterations, the model test accuracy on synthetic data is 38.53%\n",
      "Training on synthetic CIFAR10 dataset takes 4.785013675689697 seconds\n"
     ]
    }
   ],
   "source": [
    "class arguments():\n",
    "    def __init__(self,): \n",
    "        self.method = 'DC'\n",
    "        self.dataset = 'CIFAR10'\n",
    "        self.model = 'ConvNet'\n",
    "        #'image(s) per class'\n",
    "        self.ipc = 10\n",
    "         # S: the same to training model, M: multi architectures,  W: net width, D: net depth, A: activation function, P: pooling layer, N: normalization layer,\n",
    "        self.eval_mode = 'S'\n",
    "        #the number of experiments\n",
    "        self.num_exp = 1\n",
    "        #the number of evaluating randomly initialized models\n",
    "        self.num_eval = 1\n",
    "        #c\n",
    "        self.epoch_eval_train = 20\n",
    "        #training iterations\n",
    "        self.Iteration = 100\n",
    "        self.lr_img = 0.1\n",
    "        self.lr_net = 0.01\n",
    "        self.batch_real = 256\n",
    "        self.batch_train = 256\n",
    "        #'noise/real: initialize synthetic images from random noise or randomly sampled real images.'\n",
    "        self.init = 'real'\n",
    "        self.dsa_strategy = 'None'\n",
    "        self.data_path = 'CIFAR10data'\n",
    "        self.save_path = 'CIFAR10result'\n",
    "        self.dis_metric = 'ours'\n",
    "        self.outer_loop = 10\n",
    "        self.inner_loop = 50\n",
    "        self.device = 'cuda' if torch.cuda.is_available() else 'cpu'\n",
    "        self.dsa_param = ParamDiffAug()\n",
    "        self.dsa = False\n",
    "        \n",
    "\n",
    "def main(args):\n",
    "    if not os.path.exists(args.data_path):\n",
    "        os.mkdir(args.data_path)\n",
    "\n",
    "    if not os.path.exists(args.save_path):\n",
    "        os.mkdir(args.save_path)\n",
    "\n",
    "    eval_it_pool = [0, 9, 19, 29, 39, 49, 59, 69, 79, 89, args.Iteration-1] # The list of iterations when we evaluate models and record results.\n",
    "    print('eval_it_pool: ', np.array(eval_it_pool)+1)\n",
    "    channel, im_size, num_classes, class_names, mean, std, dst_train, dst_test, testloader = get_dataset(args.dataset, args.data_path)\n",
    "    data_save = []\n",
    "    all_losses = []\n",
    "    all_accs = []\n",
    "\n",
    "    for exp in range(args.num_exp):\n",
    "        print('\\n================== Exp %d ==================\\n '%exp)\n",
    "        print('Hyper-parameters: \\n', args.__dict__)\n",
    "\n",
    "        ''' organize the real dataset '''\n",
    "        images_all = []\n",
    "        labels_all = []\n",
    "        indices_class = [[] for c in range(num_classes)]\n",
    "\n",
    "        images_all = [torch.unsqueeze(dst_train[i][0], dim=0) for i in range(len(dst_train))]\n",
    "        labels_all = [dst_train[i][1] for i in range(len(dst_train))]\n",
    "        for i, lab in enumerate(labels_all):\n",
    "            indices_class[lab].append(i)\n",
    "        images_all = torch.cat(images_all, dim=0).to(args.device)\n",
    "        labels_all = torch.tensor(labels_all, dtype=torch.long, device=args.device)\n",
    "\n",
    "        for c in range(num_classes):\n",
    "            print('class c = %d: %d real images'%(c, len(indices_class[c])))\n",
    "\n",
    "        def get_images(c, n): # get random n images from class c\n",
    "            idx_shuffle = np.random.permutation(indices_class[c])[:n]\n",
    "            return images_all[idx_shuffle]\n",
    "\n",
    "        for ch in range(channel):\n",
    "            print('real images channel %d, mean = %.4f, std = %.4f'%(ch, torch.mean(images_all[:, ch]), torch.std(images_all[:, ch])))\n",
    "\n",
    "\n",
    "        ''' initialize the synthetic data '''\n",
    "        image_syn = torch.randn(size=(num_classes*args.ipc, channel, im_size[0], im_size[1]), dtype=torch.float, requires_grad=True, device=args.device)\n",
    "        label_syn = torch.tensor([np.ones(args.ipc)*i for i in range(num_classes)], dtype=torch.long, requires_grad=False, device=args.device).view(-1) # [0,0,0, 1,1,1, ..., 9,9,9]\n",
    "\n",
    "        if args.init == 'real':\n",
    "            print('initialize synthetic data from random real images')\n",
    "            for c in range(num_classes):\n",
    "                image_syn.data[c*args.ipc:(c+1)*args.ipc] = get_images(c, args.ipc).detach().data\n",
    "        else:\n",
    "            print('initialize synthetic data from random noise')\n",
    "\n",
    "\n",
    "        ''' training '''\n",
    "        optimizer_img = torch.optim.SGD([image_syn, ], lr=args.lr_img, momentum=0.5) # optimizer_img for synthetic data\n",
    "        optimizer_img.zero_grad()\n",
    "        criterion = nn.CrossEntropyLoss().to(args.device)\n",
    "        print('%s training begins'%get_time())\n",
    "\n",
    "        for it in range(args.Iteration):\n",
    "            \n",
    "            if it in eval_it_pool:\n",
    "                ''' visualize and save '''\n",
    "                save_name = os.path.join(args.save_path, args.init+'vis_%s_%s_%s_%dipc_exp%d_iter%d.png'%(args.method, args.dataset, args.model, args.ipc, exp, it))\n",
    "                image_syn_vis = copy.deepcopy(image_syn.detach().cpu())\n",
    "                for ch in range(channel):\n",
    "                    image_syn_vis[:, ch] = image_syn_vis[:, ch]  * std[ch] + mean[ch]\n",
    "                image_syn_vis[image_syn_vis<0] = 0.0\n",
    "                image_syn_vis[image_syn_vis>1] = 1.0\n",
    "                save_image(image_syn_vis, save_name, nrow=args.ipc) # Trying normalize = True/False may get better visual effects.\n",
    "            \n",
    "            ''' Train synthetic data '''\n",
    "            net = get_network(args.model, channel, num_classes, im_size).to(args.device) # get a random model\n",
    "            net.train()\n",
    "            net_parameters = list(net.parameters())\n",
    "            optimizer_net = torch.optim.SGD(net.parameters(), lr=args.lr_net)  # optimizer_img for synthetic data\n",
    "            optimizer_net.zero_grad()\n",
    "            loss_avg = 0\n",
    "            args.dc_aug_param = None  # Mute the DC augmentation when learning synthetic data (in inner-loop epoch function) in oder to be consistent with DC paper.\n",
    "\n",
    "\n",
    "            for ol in range(args.outer_loop):\n",
    "\n",
    "                ''' freeze the running mu and sigma for BatchNorm layers '''\n",
    "                # Synthetic data batch, e.g. only 1 image/batch, is too small to obtain stable mu and sigma.\n",
    "                # So, we calculate and freeze mu and sigma for BatchNorm layer with real data batch ahead.\n",
    "                # This would make the training with BatchNorm layers easier.\n",
    "\n",
    "                BN_flag = False\n",
    "                BNSizePC = 16  # for batch normalization\n",
    "                for module in net.modules():\n",
    "                    if 'BatchNorm' in module._get_name(): #BatchNorm\n",
    "                        BN_flag = True\n",
    "                if BN_flag:\n",
    "                    img_real = torch.cat([get_images(c, BNSizePC) for c in range(num_classes)], dim=0)\n",
    "                    net.train() # for updating the mu, sigma of BatchNorm\n",
    "                    output_real = net(img_real) # get running mu, sigma\n",
    "                    for module in net.modules():\n",
    "                        if 'BatchNorm' in module._get_name():  #BatchNorm\n",
    "                            module.eval() # fix mu and sigma of every BatchNorm layer\n",
    "\n",
    "\n",
    "                ''' update synthetic data '''\n",
    "                loss = torch.tensor(0.0).to(args.device)\n",
    "                for c in range(num_classes):\n",
    "                    img_real = get_images(c, args.batch_real)\n",
    "                    lab_real = torch.ones((img_real.shape[0],), device=args.device, dtype=torch.long) * c\n",
    "                    img_syn = image_syn[c*args.ipc:(c+1)*args.ipc].reshape((args.ipc, channel, im_size[0], im_size[1]))\n",
    "                    lab_syn = torch.ones((args.ipc,), device=args.device, dtype=torch.long) * c\n",
    "\n",
    "                    if args.dsa:\n",
    "                        seed = int(time.time() * 1000) % 100000\n",
    "                        img_real = DiffAugment(img_real, args.dsa_strategy, seed=seed, param=args.dsa_param)\n",
    "                        img_syn = DiffAugment(img_syn, args.dsa_strategy, seed=seed, param=args.dsa_param)\n",
    "\n",
    "                    output_real = net(img_real)\n",
    "                    loss_real = criterion(output_real, lab_real)\n",
    "                    gw_real = torch.autograd.grad(loss_real, net_parameters)\n",
    "                    gw_real = list((_.detach().clone() for _ in gw_real))\n",
    "\n",
    "                    output_syn = net(img_syn)\n",
    "                    loss_syn = criterion(output_syn, lab_syn)\n",
    "                    gw_syn = torch.autograd.grad(loss_syn, net_parameters, create_graph=True)\n",
    "\n",
    "                    loss += match_loss(gw_syn, gw_real, args)\n",
    "\n",
    "                optimizer_img.zero_grad()\n",
    "                loss.backward()\n",
    "                optimizer_img.step()\n",
    "                loss_avg += loss.item()\n",
    "\n",
    "                if ol == args.outer_loop - 1:\n",
    "                    break\n",
    "\n",
    "\n",
    "                ''' update network '''\n",
    "                image_syn_train, label_syn_train = copy.deepcopy(image_syn.detach()), copy.deepcopy(label_syn.detach())  # avoid any unaware modification\n",
    "                dst_syn_train = TensorDataset(image_syn_train, label_syn_train)\n",
    "                trainloader = torch.utils.data.DataLoader(dst_syn_train, batch_size=args.batch_train, shuffle=True, num_workers=0)\n",
    "                for il in range(args.inner_loop):\n",
    "                    epoch('train', trainloader, net, optimizer_net, criterion, args, aug = True if args.dsa else False)\n",
    "\n",
    "\n",
    "            loss_avg /= (num_classes*args.outer_loop)\n",
    "            all_losses.append(loss_avg)\n",
    "\n",
    "            if (it+1)%10 == 0:\n",
    "                print('%s iter = %04d, loss = %.4f' % (get_time(), it+1, loss_avg))\n",
    "\n",
    "            if it == (args.Iteration-1): # only record the final results\n",
    "                data_save.append([copy.deepcopy(image_syn.detach().cpu()), copy.deepcopy(label_syn.detach().cpu())])\n",
    "                torch.save({'data': data_save}, os.path.join(args.save_path, args.init+'res_%s_%s_%s_%dipc.pt'%(args.method, args.dataset, args.model, args.ipc)))\n",
    "\n",
    "            ''' Evaluate synthetic data '''\n",
    "            if it == eval_it_pool[-1]:\n",
    "                print('-------------------------\\nEvaluation\\nmodel_train = %s, model_eval = %s, iteration = %d'%(args.model, args.model, it+1))\n",
    "                args.dc_aug_param = get_daparam(args.dataset, args.model, args.model, args.ipc) # This augmentation parameter set is only for DC method. It will be muted when args.dsa is True.\n",
    "                args.epoch_eval_train = 20\n",
    "\n",
    "                accs = []\n",
    "                net_eval = get_network(args.model, channel, num_classes, im_size).to(args.device) # get a random model\n",
    "                image_syn_eval, label_syn_eval = copy.deepcopy(image_syn.detach()), copy.deepcopy(label_syn.detach()) # avoid any unaware modification\n",
    "                start = time.time()\n",
    "                _, acc_train, acc_test = evaluate_synset(net_eval, image_syn_eval, label_syn_eval, testloader, args)\n",
    "                print('\\n==================== Final Results ====================\\n')\n",
    "                print('After {} iterations, the model test accuracy on synthetic data is {}%'.format(it+1, acc_test*100))\n",
    "                print('Training on synthetic CIFAR10 dataset takes {} seconds'.format(time.time()-start))\n",
    "                all_accs.append(acc_test)\n",
    "                \n",
    "                \n",
    "    return all_losses, all_accs\n",
    "\n",
    "args = arguments()\n",
    "all_losses, all_accs = main(args)\n"
   ]
  },
  {
   "cell_type": "code",
   "execution_count": 4,
   "id": "2112d270",
   "metadata": {},
   "outputs": [
    {
     "name": "stdout",
     "output_type": "stream",
     "text": [
      "eval_it_pool:  [  1  10  20  30  40  50  60  70  80  90 100]\n",
      "Files already downloaded and verified\n",
      "Files already downloaded and verified\n",
      "\n",
      "================== Exp 0 ==================\n",
      " \n",
      "Hyper-parameters: \n",
      " {'method': 'DC', 'dataset': 'CIFAR10', 'model': 'ConvNet', 'ipc': 10, 'eval_mode': 'S', 'num_exp': 1, 'num_eval': 1, 'epoch_eval_train': 20, 'Iteration': 100, 'lr_img': 0.1, 'lr_net': 0.01, 'batch_real': 256, 'batch_train': 256, 'init': 'noise', 'dsa_strategy': 'None', 'data_path': 'CIFAR10data', 'save_path': 'CIFAR10result', 'dis_metric': 'ours', 'outer_loop': 10, 'inner_loop': 50, 'device': 'cuda', 'dsa_param': <utils.ParamDiffAug object at 0x000001B52B3EDAB0>, 'dsa': False}\n",
      "class c = 0: 5000 real images\n",
      "class c = 1: 5000 real images\n",
      "class c = 2: 5000 real images\n",
      "class c = 3: 5000 real images\n",
      "class c = 4: 5000 real images\n",
      "class c = 5: 5000 real images\n",
      "class c = 6: 5000 real images\n",
      "class c = 7: 5000 real images\n",
      "class c = 8: 5000 real images\n",
      "class c = 9: 5000 real images\n",
      "real images channel 0, mean = -0.0000, std = 1.2211\n",
      "real images channel 1, mean = -0.0002, std = 1.2211\n",
      "real images channel 2, mean = 0.0002, std = 1.3014\n",
      "initialize synthetic data from random noise\n",
      "[2022-11-28 23:16:44] training begins\n",
      "[2022-11-28 23:19:35] iter = 0010, loss = 145.8560\n",
      "[2022-11-28 23:22:18] iter = 0020, loss = 140.2843\n",
      "[2022-11-28 23:25:24] iter = 0030, loss = 133.9993\n",
      "[2022-11-28 23:28:29] iter = 0040, loss = 128.8976\n",
      "[2022-11-28 23:31:35] iter = 0050, loss = 125.2593\n",
      "[2022-11-28 23:34:40] iter = 0060, loss = 120.7761\n",
      "[2022-11-28 23:37:46] iter = 0070, loss = 119.2552\n",
      "[2022-11-28 23:40:51] iter = 0080, loss = 116.7096\n",
      "[2022-11-28 23:43:56] iter = 0090, loss = 115.5918\n",
      "[2022-11-28 23:47:02] iter = 0100, loss = 112.3244\n",
      "-------------------------\n",
      "Evaluation\n",
      "model_train = ConvNet, model_eval = ConvNet, iteration = 100\n",
      "\n",
      "==================== Final Results ====================\n",
      "\n",
      "After 100 iterations, the model test accuracy on synthetic data is 34.14%\n",
      "Training on synthetic CIFAR10 dataset takes 4.696878910064697 seconds\n"
     ]
    }
   ],
   "source": [
    "args = arguments()\n",
    "args.init = 'noise'\n",
    "all_losses, all_accs = main(args)"
   ]
  },
  {
   "cell_type": "code",
   "execution_count": null,
   "id": "9fde0788",
   "metadata": {},
   "outputs": [],
   "source": []
  }
 ],
 "metadata": {
  "kernelspec": {
   "display_name": "Python 3 (ipykernel)",
   "language": "python",
   "name": "python3"
  },
  "language_info": {
   "codemirror_mode": {
    "name": "ipython",
    "version": 3
   },
   "file_extension": ".py",
   "mimetype": "text/x-python",
   "name": "python",
   "nbconvert_exporter": "python",
   "pygments_lexer": "ipython3",
   "version": "3.10.4"
  }
 },
 "nbformat": 4,
 "nbformat_minor": 5
}
