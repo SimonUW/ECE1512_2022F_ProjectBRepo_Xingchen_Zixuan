{
 "cells": [
  {
   "cell_type": "code",
   "execution_count": 1,
   "id": "598ad3c8",
   "metadata": {},
   "outputs": [],
   "source": [
    "import os\n",
    "import time\n",
    "import copy\n",
    "import argparse\n",
    "import numpy as np\n",
    "import torch\n",
    "from fvcore.nn import FlopCountAnalysis\n",
    "import tqdm\n",
    "import torch.nn as nn\n",
    "from torchvision.utils import save_image\n",
    "from utils import get_loops, get_dataset, get_network, get_eval_pool, evaluate_synset, get_daparam, match_loss, get_time, TensorDataset, epoch, DiffAugment, ParamDiffAug\n",
    "device = 'cuda' if torch.cuda.is_available() else 'cpu'"
   ]
  },
  {
   "cell_type": "code",
   "execution_count": 4,
   "id": "bc7c6c49",
   "metadata": {},
   "outputs": [
    {
     "name": "stderr",
     "output_type": "stream",
     "text": [
      "Unsupported operator aten::avg_pool2d encountered 3 time(s)\n"
     ]
    },
    {
     "name": "stdout",
     "output_type": "stream",
     "text": [
      "The FLOPs for 100 synthetic images is 4924620800\n",
      "The FLOPs for 60000 real training images is 2954772480000\n",
      "The FLOPs for 10000 real validation images is 492462080000\n",
      "Start Epoch #1\n"
     ]
    },
    {
     "name": "stderr",
     "output_type": "stream",
     "text": [
      "100%|█████████████████████████████████████████████████████████████████████████████| 7500/7500 [00:41<00:00, 181.48it/s]\n"
     ]
    },
    {
     "name": "stdout",
     "output_type": "stream",
     "text": [
      "Train accuracy is 97.21333333333332%\n",
      "Average train loss is 0.09636120648886232\n",
      "Start Epoch #2\n"
     ]
    },
    {
     "name": "stderr",
     "output_type": "stream",
     "text": [
      "100%|█████████████████████████████████████████████████████████████████████████████| 7500/7500 [00:41<00:00, 182.15it/s]\n"
     ]
    },
    {
     "name": "stdout",
     "output_type": "stream",
     "text": [
      "Train accuracy is 98.86833333333334%\n",
      "Average train loss is 0.037596627227744706\n",
      "Start Epoch #3\n"
     ]
    },
    {
     "name": "stderr",
     "output_type": "stream",
     "text": [
      "100%|█████████████████████████████████████████████████████████████████████████████| 7500/7500 [00:39<00:00, 188.29it/s]\n"
     ]
    },
    {
     "name": "stdout",
     "output_type": "stream",
     "text": [
      "Train accuracy is 99.13833333333332%\n",
      "Average train loss is 0.028208444553001026\n",
      "Start Epoch #4\n"
     ]
    },
    {
     "name": "stderr",
     "output_type": "stream",
     "text": [
      "100%|█████████████████████████████████████████████████████████████████████████████| 7500/7500 [00:38<00:00, 195.77it/s]\n"
     ]
    },
    {
     "name": "stdout",
     "output_type": "stream",
     "text": [
      "Train accuracy is 99.345%\n",
      "Average train loss is 0.0221524243795627\n",
      "Start Epoch #5\n"
     ]
    },
    {
     "name": "stderr",
     "output_type": "stream",
     "text": [
      "100%|█████████████████████████████████████████████████████████████████████████████| 7500/7500 [00:39<00:00, 191.30it/s]\n"
     ]
    },
    {
     "name": "stdout",
     "output_type": "stream",
     "text": [
      "Train accuracy is 99.42333333333333%\n",
      "Average train loss is 0.018589427906607184\n",
      "Start Epoch #6\n"
     ]
    },
    {
     "name": "stderr",
     "output_type": "stream",
     "text": [
      "100%|█████████████████████████████████████████████████████████████████████████████| 7500/7500 [00:39<00:00, 189.53it/s]\n"
     ]
    },
    {
     "name": "stdout",
     "output_type": "stream",
     "text": [
      "Train accuracy is 99.56833333333334%\n",
      "Average train loss is 0.014966347912801697\n",
      "Start Epoch #7\n"
     ]
    },
    {
     "name": "stderr",
     "output_type": "stream",
     "text": [
      "100%|█████████████████████████████████████████████████████████████████████████████| 7500/7500 [00:40<00:00, 183.64it/s]\n"
     ]
    },
    {
     "name": "stdout",
     "output_type": "stream",
     "text": [
      "Train accuracy is 99.66166666666668%\n",
      "Average train loss is 0.01233487842734891\n",
      "Start Epoch #8\n"
     ]
    },
    {
     "name": "stderr",
     "output_type": "stream",
     "text": [
      "100%|█████████████████████████████████████████████████████████████████████████████| 7500/7500 [00:40<00:00, 184.19it/s]\n"
     ]
    },
    {
     "name": "stdout",
     "output_type": "stream",
     "text": [
      "Train accuracy is 99.73333333333333%\n",
      "Average train loss is 0.010501599295541503\n",
      "Start Epoch #9\n"
     ]
    },
    {
     "name": "stderr",
     "output_type": "stream",
     "text": [
      "100%|█████████████████████████████████████████████████████████████████████████████| 7500/7500 [00:39<00:00, 188.52it/s]\n"
     ]
    },
    {
     "name": "stdout",
     "output_type": "stream",
     "text": [
      "Train accuracy is 99.80166666666666%\n",
      "Average train loss is 0.00862585836301514\n",
      "Start Epoch #10\n"
     ]
    },
    {
     "name": "stderr",
     "output_type": "stream",
     "text": [
      "100%|█████████████████████████████████████████████████████████████████████████████| 7500/7500 [00:38<00:00, 193.20it/s]\n"
     ]
    },
    {
     "name": "stdout",
     "output_type": "stream",
     "text": [
      "Train accuracy is 99.85166666666667%\n",
      "Average train loss is 0.007250313250330813\n",
      "Start Epoch #11\n"
     ]
    },
    {
     "name": "stderr",
     "output_type": "stream",
     "text": [
      "100%|█████████████████████████████████████████████████████████████████████████████| 7500/7500 [00:38<00:00, 193.12it/s]\n"
     ]
    },
    {
     "name": "stdout",
     "output_type": "stream",
     "text": [
      "Train accuracy is 99.88666666666667%\n",
      "Average train loss is 0.005959797833087244\n",
      "Start Epoch #12\n"
     ]
    },
    {
     "name": "stderr",
     "output_type": "stream",
     "text": [
      "100%|█████████████████████████████████████████████████████████████████████████████| 7500/7500 [00:38<00:00, 194.15it/s]\n"
     ]
    },
    {
     "name": "stdout",
     "output_type": "stream",
     "text": [
      "Train accuracy is 99.91833333333334%\n",
      "Average train loss is 0.004990835475930317\n",
      "Start Epoch #13\n"
     ]
    },
    {
     "name": "stderr",
     "output_type": "stream",
     "text": [
      "100%|█████████████████████████████████████████████████████████████████████████████| 7500/7500 [00:38<00:00, 196.32it/s]\n"
     ]
    },
    {
     "name": "stdout",
     "output_type": "stream",
     "text": [
      "Train accuracy is 99.94666666666666%\n",
      "Average train loss is 0.00422198680354201\n",
      "Start Epoch #14\n"
     ]
    },
    {
     "name": "stderr",
     "output_type": "stream",
     "text": [
      "100%|█████████████████████████████████████████████████████████████████████████████| 7500/7500 [00:38<00:00, 194.94it/s]\n"
     ]
    },
    {
     "name": "stdout",
     "output_type": "stream",
     "text": [
      "Train accuracy is 99.94333333333333%\n",
      "Average train loss is 0.0038661902848921574\n",
      "Start Epoch #15\n"
     ]
    },
    {
     "name": "stderr",
     "output_type": "stream",
     "text": [
      "100%|█████████████████████████████████████████████████████████████████████████████| 7500/7500 [00:38<00:00, 194.84it/s]\n"
     ]
    },
    {
     "name": "stdout",
     "output_type": "stream",
     "text": [
      "Train accuracy is 99.96666666666667%\n",
      "Average train loss is 0.0034085706100623306\n",
      "Start Epoch #16\n"
     ]
    },
    {
     "name": "stderr",
     "output_type": "stream",
     "text": [
      "100%|█████████████████████████████████████████████████████████████████████████████| 7500/7500 [00:54<00:00, 137.36it/s]\n"
     ]
    },
    {
     "name": "stdout",
     "output_type": "stream",
     "text": [
      "Train accuracy is 99.97333333333333%\n",
      "Average train loss is 0.003172207000024476\n",
      "Start Epoch #17\n"
     ]
    },
    {
     "name": "stderr",
     "output_type": "stream",
     "text": [
      "100%|█████████████████████████████████████████████████████████████████████████████| 7500/7500 [00:51<00:00, 145.73it/s]\n"
     ]
    },
    {
     "name": "stdout",
     "output_type": "stream",
     "text": [
      "Train accuracy is 99.97666666666667%\n",
      "Average train loss is 0.0029685941946937418\n",
      "Start Epoch #18\n"
     ]
    },
    {
     "name": "stderr",
     "output_type": "stream",
     "text": [
      "100%|█████████████████████████████████████████████████████████████████████████████| 7500/7500 [00:51<00:00, 145.99it/s]\n"
     ]
    },
    {
     "name": "stdout",
     "output_type": "stream",
     "text": [
      "Train accuracy is 99.98%\n",
      "Average train loss is 0.002843619347076992\n",
      "Start Epoch #19\n"
     ]
    },
    {
     "name": "stderr",
     "output_type": "stream",
     "text": [
      "100%|█████████████████████████████████████████████████████████████████████████████| 7500/7500 [00:52<00:00, 142.76it/s]\n"
     ]
    },
    {
     "name": "stdout",
     "output_type": "stream",
     "text": [
      "Train accuracy is 99.98333333333333%\n",
      "Average train loss is 0.0027625877702018064\n",
      "Start Epoch #20\n"
     ]
    },
    {
     "name": "stderr",
     "output_type": "stream",
     "text": [
      "100%|█████████████████████████████████████████████████████████████████████████████| 7500/7500 [00:46<00:00, 160.34it/s]\n"
     ]
    },
    {
     "name": "stdout",
     "output_type": "stream",
     "text": [
      "Train accuracy is 99.98166666666667%\n",
      "Average train loss is 0.0027157509171857478\n",
      "Test accuracy is 99.48%\n",
      "Average test loss is 0.015956512201280564\n",
      "Training on the original MNIST dataset takes 851.3110814094543 seconds\n"
     ]
    }
   ],
   "source": [
    "def train(model, train_loader, test_loader, optimizer, scheduler, criterion, epochs):\n",
    "    model = model.to(device)\n",
    "    criterion = criterion.to(device)\n",
    "    model.train()\n",
    "    sythetic_img_all = torch.ones((100,1,28,28)).to(device)\n",
    "    flops_syn = FlopCountAnalysis(model, sythetic_img_all)\n",
    "    print('The FLOPs for 100 synthetic images is {}'.format(flops_syn.total()))\n",
    "    print('The FLOPs for 60000 real training images is {}'.format(flops_syn.total()*600))\n",
    "    print('The FLOPs for 10000 real validation images is {}'.format(flops_syn.total()*100))\n",
    "    del sythetic_img_all\n",
    "    for epoch in range(epochs):\n",
    "        print('Start Epoch #{}'.format(epoch+1))\n",
    "        with tqdm.tqdm(total=len(train_loader)) as pbar:\n",
    "            loss_avg, acc_avg, num_exp = 0, 0, 0\n",
    "            for i_batch, datum in enumerate(train_loader):\n",
    "                img = datum[0].float().to(device)\n",
    "        #         if aug:\n",
    "        #             if args.dsa:\n",
    "        #                 img = DiffAugment(img, args.dsa_strategy, param=args.dsa_param)\n",
    "        #             else:\n",
    "        #                 img = augment(img, args.dc_aug_param, device=args.device)\n",
    "                lab = datum[1].long().to(device)\n",
    "                n_b = lab.shape[0]\n",
    "                output = model(img)\n",
    "                loss = criterion(output, lab)\n",
    "                acc = np.sum(np.equal(np.argmax(output.cpu().data.numpy(), axis=-1), lab.cpu().data.numpy()))\n",
    "                loss_avg += loss.item()*n_b\n",
    "                acc_avg += acc\n",
    "                num_exp += n_b\n",
    "\n",
    "                optimizer.zero_grad()\n",
    "                loss.backward()\n",
    "                optimizer.step()\n",
    "                pbar.update(1)\n",
    "                del img, lab\n",
    "                \n",
    "        loss_avg /= num_exp\n",
    "        acc_avg /= num_exp\n",
    "        scheduler.step()\n",
    "        print('Train accuracy is {}%'.format(acc_avg*100))\n",
    "        print('Average train loss is {}'.format(loss_avg))\n",
    "        \n",
    "    loss_avg, acc_avg, num_exp = 0, 0, 0   \n",
    "    model.eval()\n",
    "    for i_batch, datum in enumerate(test_loader):\n",
    "        img = datum[0].float().to(device)\n",
    "        lab = datum[1].long().to(device)\n",
    "        n_b = lab.shape[0]\n",
    "        output = model(img)\n",
    "        loss = criterion(output, lab)\n",
    "        acc = np.sum(np.equal(np.argmax(output.cpu().data.numpy(), axis=-1), lab.cpu().data.numpy()))\n",
    "        loss_avg += loss.item()*n_b\n",
    "        acc_avg += acc\n",
    "        num_exp += n_b\n",
    "        \n",
    "        del img, lab\n",
    "\n",
    "    loss_avg /= num_exp\n",
    "    acc_avg /= num_exp\n",
    "    print('Test accuracy is {}%'.format(acc_avg*100))\n",
    "    print('Average test loss is {}'.format(loss_avg))          \n",
    "\n",
    "    return loss_avg, acc_avg\n",
    "\n",
    "MNIST_dataset = 'MNIST'\n",
    "MNIST_data_path = './MNISTdata'\n",
    "MNIST_channel, MNIST_im_size, MNIST_num_classes, MNIST_class_names, MNIST_mean, MNIST_std, MNIST_dst_train, MNIST_dst_test, MNIST_testloader = get_dataset(MNIST_dataset, MNIST_data_path)\n",
    "MNIST_trainloader = torch.utils.data.DataLoader(MNIST_dst_train, batch_size=8, shuffle=True, num_workers=0)\n",
    "model = get_network('ConvNet', MNIST_channel, MNIST_num_classes, MNIST_im_size).to(device) # get a random model\n",
    "criterion = nn.CrossEntropyLoss()\n",
    "optimizer = torch.optim.SGD(model.parameters(), lr=0.01)\n",
    "scheduler = torch.optim.lr_scheduler.CosineAnnealingLR(optimizer, T_max=20, eta_min=0)\n",
    "epochs = 20\n",
    "start = time.time()\n",
    "train(model, MNIST_trainloader , MNIST_testloader , optimizer, scheduler, criterion, epochs)\n",
    "print('Training on the original MNIST dataset takes {} seconds'.format(time.time()-start))\n"
   ]
  },
  {
   "cell_type": "code",
   "execution_count": 3,
   "id": "d7189e45",
   "metadata": {},
   "outputs": [
    {
     "name": "stdout",
     "output_type": "stream",
     "text": [
      "eval_it_pool:  [  1  10  20  30  40  50  60  70  80  90 100]\n",
      "\n",
      "================== Exp 0 ==================\n",
      " \n",
      "Hyper-parameters: \n",
      " {'method': 'DC', 'dataset': 'MNIST', 'model': 'ConvNet', 'ipc': 10, 'eval_mode': 'S', 'num_exp': 1, 'num_eval': 1, 'epoch_eval_train': 20, 'Iteration': 100, 'lr_img': 0.1, 'lr_net': 0.01, 'batch_real': 256, 'batch_train': 256, 'init': 'real', 'dsa_strategy': 'None', 'data_path': 'MNISTdata', 'save_path': 'MNISTresult', 'dis_metric': 'ours', 'outer_loop': 10, 'inner_loop': 50, 'device': 'cuda', 'dsa_param': <utils.ParamDiffAug object at 0x0000011F721FB9A0>, 'dsa': False}\n",
      "class c = 0: 5923 real images\n",
      "class c = 1: 6742 real images\n",
      "class c = 2: 5958 real images\n",
      "class c = 3: 6131 real images\n",
      "class c = 4: 5842 real images\n",
      "class c = 5: 5421 real images\n",
      "class c = 6: 5918 real images\n",
      "class c = 7: 6265 real images\n",
      "class c = 8: 5851 real images\n",
      "class c = 9: 5949 real images\n",
      "real images channel 0, mean = -0.0001, std = 1.0000\n",
      "initialize synthetic data from random real images\n",
      "[2022-11-28 22:49:45] training begins\n"
     ]
    },
    {
     "name": "stderr",
     "output_type": "stream",
     "text": [
      "C:\\Users\\zixua\\AppData\\Local\\Temp\\ipykernel_18772\\3800709446.py:78: UserWarning: Creating a tensor from a list of numpy.ndarrays is extremely slow. Please consider converting the list to a single numpy.ndarray with numpy.array() before converting to a tensor. (Triggered internally at C:\\cb\\pytorch_1000000000000\\work\\torch\\csrc\\utils\\tensor_new.cpp:233.)\n",
      "  label_syn = torch.tensor([np.ones(args.ipc)*i for i in range(num_classes)], dtype=torch.long, requires_grad=False, device=args.device).view(-1) # [0,0,0, 1,1,1, ..., 9,9,9]\n"
     ]
    },
    {
     "name": "stdout",
     "output_type": "stream",
     "text": [
      "[2022-11-28 22:52:44] iter = 0010, loss = 36.7684\n",
      "[2022-11-28 22:55:45] iter = 0020, loss = 36.6858\n",
      "[2022-11-28 22:58:46] iter = 0030, loss = 36.3136\n",
      "[2022-11-28 23:01:49] iter = 0040, loss = 37.6236\n",
      "[2022-11-28 23:04:52] iter = 0050, loss = 35.4983\n",
      "[2022-11-28 23:07:54] iter = 0060, loss = 35.9700\n",
      "[2022-11-28 23:10:55] iter = 0070, loss = 36.7914\n",
      "[2022-11-28 23:13:57] iter = 0080, loss = 34.2500\n",
      "[2022-11-28 23:16:34] iter = 0090, loss = 36.1507\n",
      "[2022-11-28 23:19:22] iter = 0100, loss = 35.5200\n",
      "-------------------------\n",
      "Evaluation\n",
      "model_train = ConvNet, model_eval = ConvNet, iteration = 100\n",
      "\n",
      "==================== Final Results ====================\n",
      "\n",
      "After 100 iterations, the model test accuracy on synthetic data is 94.37%\n",
      "Training on synthetic MNIST dataset takes 5.802131652832031 seconds\n"
     ]
    }
   ],
   "source": [
    "class arguments():\n",
    "    def __init__(self,): \n",
    "        self.method = 'DC'\n",
    "        self.dataset = 'MNIST'\n",
    "        self.model = 'ConvNet'\n",
    "        #'image(s) per class'\n",
    "        self.ipc = 10\n",
    "         # S: the same to training model, M: multi architectures,  W: net width, D: net depth, A: activation function, P: pooling layer, N: normalization layer,\n",
    "        self.eval_mode = 'S'\n",
    "        #the number of experiments\n",
    "        self.num_exp = 1\n",
    "        #the number of evaluating randomly initialized models\n",
    "        self.num_eval = 1\n",
    "        #c\n",
    "        self.epoch_eval_train = 20\n",
    "        #training iterations\n",
    "        self.Iteration = 100\n",
    "        self.lr_img = 0.1\n",
    "        self.lr_net = 0.01\n",
    "        self.batch_real = 256\n",
    "        self.batch_train = 256\n",
    "        #'noise/real: initialize synthetic images from random noise or randomly sampled real images.'\n",
    "        self.init = 'real'\n",
    "        self.dsa_strategy = 'None'\n",
    "        self.data_path = 'MNISTdata'\n",
    "        self.save_path = 'MNISTresult'\n",
    "        self.dis_metric = 'ours'\n",
    "        self.outer_loop = 10\n",
    "        self.inner_loop = 50\n",
    "        self.device = 'cuda' if torch.cuda.is_available() else 'cpu'\n",
    "        self.dsa_param = ParamDiffAug()\n",
    "        self.dsa = False\n",
    "        \n",
    "\n",
    "def main(args):\n",
    "    if not os.path.exists(args.data_path):\n",
    "        os.mkdir(args.data_path)\n",
    "\n",
    "    if not os.path.exists(args.save_path):\n",
    "        os.mkdir(args.save_path)\n",
    "\n",
    "    eval_it_pool = [0, 9, 19, 29, 39, 49, 59, 69, 79, 89, args.Iteration-1] # The list of iterations when we evaluate models and record results.\n",
    "    print('eval_it_pool: ', np.array(eval_it_pool)+1)\n",
    "    channel, im_size, num_classes, class_names, mean, std, dst_train, dst_test, testloader = get_dataset(args.dataset, args.data_path)\n",
    "    data_save = []\n",
    "    all_losses = []\n",
    "    all_accs = []\n",
    "\n",
    "    for exp in range(args.num_exp):\n",
    "        print('\\n================== Exp %d ==================\\n '%exp)\n",
    "        print('Hyper-parameters: \\n', args.__dict__)\n",
    "\n",
    "        ''' organize the real dataset '''\n",
    "        images_all = []\n",
    "        labels_all = []\n",
    "        indices_class = [[] for c in range(num_classes)]\n",
    "\n",
    "        images_all = [torch.unsqueeze(dst_train[i][0], dim=0) for i in range(len(dst_train))]\n",
    "        labels_all = [dst_train[i][1] for i in range(len(dst_train))]\n",
    "        for i, lab in enumerate(labels_all):\n",
    "            indices_class[lab].append(i)\n",
    "        images_all = torch.cat(images_all, dim=0).to(args.device)\n",
    "        labels_all = torch.tensor(labels_all, dtype=torch.long, device=args.device)\n",
    "\n",
    "        for c in range(num_classes):\n",
    "            print('class c = %d: %d real images'%(c, len(indices_class[c])))\n",
    "\n",
    "        def get_images(c, n): # get random n images from class c\n",
    "            idx_shuffle = np.random.permutation(indices_class[c])[:n]\n",
    "            return images_all[idx_shuffle]\n",
    "\n",
    "        for ch in range(channel):\n",
    "            print('real images channel %d, mean = %.4f, std = %.4f'%(ch, torch.mean(images_all[:, ch]), torch.std(images_all[:, ch])))\n",
    "\n",
    "\n",
    "        ''' initialize the synthetic data '''\n",
    "        image_syn = torch.randn(size=(num_classes*args.ipc, channel, im_size[0], im_size[1]), dtype=torch.float, requires_grad=True, device=args.device)\n",
    "        label_syn = torch.tensor([np.ones(args.ipc)*i for i in range(num_classes)], dtype=torch.long, requires_grad=False, device=args.device).view(-1) # [0,0,0, 1,1,1, ..., 9,9,9]\n",
    "\n",
    "        if args.init == 'real':\n",
    "            print('initialize synthetic data from random real images')\n",
    "            for c in range(num_classes):\n",
    "                image_syn.data[c*args.ipc:(c+1)*args.ipc] = get_images(c, args.ipc).detach().data\n",
    "        else:\n",
    "            print('initialize synthetic data from random noise')\n",
    "\n",
    "\n",
    "        ''' training '''\n",
    "        optimizer_img = torch.optim.SGD([image_syn, ], lr=args.lr_img, momentum=0.5) # optimizer_img for synthetic data\n",
    "        optimizer_img.zero_grad()\n",
    "        criterion = nn.CrossEntropyLoss().to(args.device)\n",
    "        print('%s training begins'%get_time())\n",
    "\n",
    "        for it in range(args.Iteration):\n",
    "            \n",
    "            if it in eval_it_pool:\n",
    "                ''' visualize and save '''\n",
    "                save_name = os.path.join(args.save_path, args.init+'vis_%s_%s_%s_%dipc_exp%d_iter%d.png'%(args.method, args.dataset, args.model, args.ipc, exp, it))\n",
    "                image_syn_vis = copy.deepcopy(image_syn.detach().cpu())\n",
    "                for ch in range(channel):\n",
    "                    image_syn_vis[:, ch] = image_syn_vis[:, ch]  * std[ch] + mean[ch]\n",
    "                image_syn_vis[image_syn_vis<0] = 0.0\n",
    "                image_syn_vis[image_syn_vis>1] = 1.0\n",
    "                save_image(image_syn_vis, save_name, nrow=args.ipc) # Trying normalize = True/False may get better visual effects.\n",
    "            \n",
    "            ''' Train synthetic data '''\n",
    "            net = get_network(args.model, channel, num_classes, im_size).to(args.device) # get a random model\n",
    "            net.train()\n",
    "            net_parameters = list(net.parameters())\n",
    "            optimizer_net = torch.optim.SGD(net.parameters(), lr=args.lr_net)  # optimizer_img for synthetic data\n",
    "            optimizer_net.zero_grad()\n",
    "            loss_avg = 0\n",
    "            args.dc_aug_param = None  # Mute the DC augmentation when learning synthetic data (in inner-loop epoch function) in oder to be consistent with DC paper.\n",
    "\n",
    "\n",
    "            for ol in range(args.outer_loop):\n",
    "\n",
    "                ''' freeze the running mu and sigma for BatchNorm layers '''\n",
    "                # Synthetic data batch, e.g. only 1 image/batch, is too small to obtain stable mu and sigma.\n",
    "                # So, we calculate and freeze mu and sigma for BatchNorm layer with real data batch ahead.\n",
    "                # This would make the training with BatchNorm layers easier.\n",
    "\n",
    "                BN_flag = False\n",
    "                BNSizePC = 16  # for batch normalization\n",
    "                for module in net.modules():\n",
    "                    if 'BatchNorm' in module._get_name(): #BatchNorm\n",
    "                        BN_flag = True\n",
    "                if BN_flag:\n",
    "                    img_real = torch.cat([get_images(c, BNSizePC) for c in range(num_classes)], dim=0)\n",
    "                    net.train() # for updating the mu, sigma of BatchNorm\n",
    "                    output_real = net(img_real) # get running mu, sigma\n",
    "                    for module in net.modules():\n",
    "                        if 'BatchNorm' in module._get_name():  #BatchNorm\n",
    "                            module.eval() # fix mu and sigma of every BatchNorm layer\n",
    "\n",
    "\n",
    "                ''' update synthetic data '''\n",
    "                loss = torch.tensor(0.0).to(args.device)\n",
    "                for c in range(num_classes):\n",
    "                    img_real = get_images(c, args.batch_real)\n",
    "                    lab_real = torch.ones((img_real.shape[0],), device=args.device, dtype=torch.long) * c\n",
    "                    img_syn = image_syn[c*args.ipc:(c+1)*args.ipc].reshape((args.ipc, channel, im_size[0], im_size[1]))\n",
    "                    lab_syn = torch.ones((args.ipc,), device=args.device, dtype=torch.long) * c\n",
    "\n",
    "                    if args.dsa:\n",
    "                        seed = int(time.time() * 1000) % 100000\n",
    "                        img_real = DiffAugment(img_real, args.dsa_strategy, seed=seed, param=args.dsa_param)\n",
    "                        img_syn = DiffAugment(img_syn, args.dsa_strategy, seed=seed, param=args.dsa_param)\n",
    "\n",
    "                    output_real = net(img_real)\n",
    "                    loss_real = criterion(output_real, lab_real)\n",
    "                    gw_real = torch.autograd.grad(loss_real, net_parameters)\n",
    "                    gw_real = list((_.detach().clone() for _ in gw_real))\n",
    "\n",
    "                    output_syn = net(img_syn)\n",
    "                    loss_syn = criterion(output_syn, lab_syn)\n",
    "                    gw_syn = torch.autograd.grad(loss_syn, net_parameters, create_graph=True)\n",
    "\n",
    "                    loss += match_loss(gw_syn, gw_real, args)\n",
    "\n",
    "                optimizer_img.zero_grad()\n",
    "                loss.backward()\n",
    "                optimizer_img.step()\n",
    "                loss_avg += loss.item()\n",
    "\n",
    "                if ol == args.outer_loop - 1:\n",
    "                    break\n",
    "\n",
    "\n",
    "                ''' update network '''\n",
    "                image_syn_train, label_syn_train = copy.deepcopy(image_syn.detach()), copy.deepcopy(label_syn.detach())  # avoid any unaware modification\n",
    "                dst_syn_train = TensorDataset(image_syn_train, label_syn_train)\n",
    "                trainloader = torch.utils.data.DataLoader(dst_syn_train, batch_size=args.batch_train, shuffle=True, num_workers=0)\n",
    "                for il in range(args.inner_loop):\n",
    "                    epoch('train', trainloader, net, optimizer_net, criterion, args, aug = True if args.dsa else False)\n",
    "\n",
    "\n",
    "            loss_avg /= (num_classes*args.outer_loop)\n",
    "            all_losses.append(loss_avg)\n",
    "\n",
    "            if (it+1)%10 == 0:\n",
    "                print('%s iter = %04d, loss = %.4f' % (get_time(), it+1, loss_avg))\n",
    "\n",
    "            if it == (args.Iteration-1): # only record the final results\n",
    "                data_save.append([copy.deepcopy(image_syn.detach().cpu()), copy.deepcopy(label_syn.detach().cpu())])\n",
    "                torch.save({'data': data_save}, os.path.join(args.save_path, args.init+'res_%s_%s_%s_%dipc.pt'%(args.method, args.dataset, args.model, args.ipc)))\n",
    "\n",
    "            ''' Evaluate synthetic data '''\n",
    "            if it == eval_it_pool[-1]:\n",
    "                print('-------------------------\\nEvaluation\\nmodel_train = %s, model_eval = %s, iteration = %d'%(args.model, args.model, it+1))\n",
    "                args.dc_aug_param = get_daparam(args.dataset, args.model, args.model, args.ipc) # This augmentation parameter set is only for DC method. It will be muted when args.dsa is True.\n",
    "                args.epoch_eval_train = 20\n",
    "\n",
    "                accs = []\n",
    "                net_eval = get_network(args.model, channel, num_classes, im_size).to(args.device) # get a random model\n",
    "                image_syn_eval, label_syn_eval = copy.deepcopy(image_syn.detach()), copy.deepcopy(label_syn.detach()) # avoid any unaware modification\n",
    "                start = time.time()\n",
    "                _, acc_train, acc_test = evaluate_synset(net_eval, image_syn_eval, label_syn_eval, testloader, args)\n",
    "                print('\\n==================== Final Results ====================\\n')\n",
    "                print('After {} iterations, the model test accuracy on synthetic data is {}%'.format(it+1, acc_test*100))\n",
    "                print('Training on synthetic MNIST dataset takes {} seconds'.format(time.time()-start))\n",
    "                all_accs.append(acc_test)\n",
    "                \n",
    "    return all_losses, all_accs\n",
    "\n",
    "args = arguments()\n",
    "all_losses, all_accs = main(args)\n"
   ]
  },
  {
   "cell_type": "code",
   "execution_count": 4,
   "id": "55ecfdf0",
   "metadata": {},
   "outputs": [
    {
     "name": "stdout",
     "output_type": "stream",
     "text": [
      "eval_it_pool:  [  1  10  20  30  40  50  60  70  80  90 100]\n",
      "\n",
      "================== Exp 0 ==================\n",
      " \n",
      "Hyper-parameters: \n",
      " {'method': 'DC', 'dataset': 'MNIST', 'model': 'ConvNet', 'ipc': 10, 'eval_mode': 'S', 'num_exp': 1, 'num_eval': 1, 'epoch_eval_train': 20, 'Iteration': 100, 'lr_img': 0.1, 'lr_net': 0.01, 'batch_real': 256, 'batch_train': 256, 'init': 'noise', 'dsa_strategy': 'None', 'data_path': 'MNISTdata', 'save_path': 'MNISTresult', 'dis_metric': 'ours', 'outer_loop': 10, 'inner_loop': 50, 'device': 'cuda', 'dsa_param': <utils.ParamDiffAug object at 0x0000011F72239990>, 'dsa': False}\n",
      "class c = 0: 5923 real images\n",
      "class c = 1: 6742 real images\n",
      "class c = 2: 5958 real images\n",
      "class c = 3: 6131 real images\n",
      "class c = 4: 5842 real images\n",
      "class c = 5: 5421 real images\n",
      "class c = 6: 5918 real images\n",
      "class c = 7: 6265 real images\n",
      "class c = 8: 5851 real images\n",
      "class c = 9: 5949 real images\n",
      "real images channel 0, mean = -0.0001, std = 1.0000\n",
      "initialize synthetic data from random noise\n",
      "[2022-11-28 23:19:52] training begins\n",
      "[2022-11-28 23:22:53] iter = 0010, loss = 94.0533\n",
      "[2022-11-28 23:25:55] iter = 0020, loss = 71.2723\n",
      "[2022-11-28 23:28:55] iter = 0030, loss = 60.9133\n",
      "[2022-11-28 23:31:56] iter = 0040, loss = 50.1099\n",
      "[2022-11-28 23:34:56] iter = 0050, loss = 49.9192\n",
      "[2022-11-28 23:37:57] iter = 0060, loss = 45.0660\n",
      "[2022-11-28 23:40:58] iter = 0070, loss = 45.9188\n",
      "[2022-11-28 23:43:58] iter = 0080, loss = 45.5499\n",
      "[2022-11-28 23:46:58] iter = 0090, loss = 43.0913\n",
      "[2022-11-28 23:48:16] iter = 0100, loss = 40.0465\n",
      "-------------------------\n",
      "Evaluation\n",
      "model_train = ConvNet, model_eval = ConvNet, iteration = 100\n",
      "\n",
      "==================== Final Results ====================\n",
      "\n",
      "After 100 iterations, the model test accuracy on synthetic data is 93.56%\n",
      "Training on synthetic MNIST dataset takes 4.041492462158203 seconds\n"
     ]
    }
   ],
   "source": [
    "args = arguments()\n",
    "args.init = 'noise'\n",
    "all_losses, all_accs = main(args)"
   ]
  },
  {
   "cell_type": "code",
   "execution_count": null,
   "id": "0a05f295",
   "metadata": {},
   "outputs": [],
   "source": []
  }
 ],
 "metadata": {
  "kernelspec": {
   "display_name": "Python 3 (ipykernel)",
   "language": "python",
   "name": "python3"
  },
  "language_info": {
   "codemirror_mode": {
    "name": "ipython",
    "version": 3
   },
   "file_extension": ".py",
   "mimetype": "text/x-python",
   "name": "python",
   "nbconvert_exporter": "python",
   "pygments_lexer": "ipython3",
   "version": "3.10.4"
  }
 },
 "nbformat": 4,
 "nbformat_minor": 5
}
